{
 "cells": [
  {
   "cell_type": "markdown",
   "metadata": {},
   "source": [
    "## Практическое задание №1"
   ]
  },
  {
   "cell_type": "markdown",
   "metadata": {},
   "source": [
    "### 1. Исследовать на линейную зависимость:\n",
    "$$f_{1}(x)=e^{x}, f_{2}(x)=1, f_{3}(x)=x+1, f_{4}(x)=x-e^{x}.$$"
   ]
  },
  {
   "cell_type": "markdown",
   "metadata": {},
   "source": [
    "#### Решение"
   ]
  },
  {
   "cell_type": "markdown",
   "metadata": {},
   "source": [
    "Можно представить $f_{1}$ как $$f_{1}(x)= 1 = -e^{x} + x + 1 - x + e^{x} = -f_{1}(x) + f_{2}(x) -f_{4}(x)$$\n",
    "Т.к.  $f_{2}(x)$ можно представить как линейную комбинацию $f_{1}(x)$, $f_{3}(x)$ и $f_{4}(x)$, значит $f_{1}(x)$, $f_{2}(x)$, $f_{3}(x)$ и $f_{4}(x)$ являются линейно зависимыми."
   ]
  },
  {
   "cell_type": "markdown",
   "metadata": {},
   "source": [
    "### 2. Исследовать на линейную зависимость: \n",
    "$$f_{1}(x)=2, f_{2}(x)=x, f_{3}(x)=x^{2}, f_{4}(x)=(x+1)^{2}.$$"
   ]
  },
  {
   "cell_type": "markdown",
   "metadata": {},
   "source": [
    "#### Решение"
   ]
  },
  {
   "cell_type": "markdown",
   "metadata": {},
   "source": [
    "$f_{4}(x) = (x+1)^{2} = x^{2}+2x+1 = f_{3}(x)+2f_{2}(x)+0.5f_{1}(x)$, то есть $f_{4}(x)$ — линейная комбинация $f_{2}(x)$, $f_{3}(x)$ и $f_{1}(x)$, значит $f_{1}(x)$, $f_{2}(x)$, $f_{3}(x)$ и $f_{4}(x)$ линейно зависимы."
   ]
  },
  {
   "cell_type": "markdown",
   "metadata": {},
   "source": [
    "### 3. Найти координаты вектора \n",
    "$x = (2, 3, 5)\\in \\mathbb{R}^{3}$ в базисе $b_{1}=(0, 0, 10)$, $b_{2}=(2, 0, 0)$, $b_{3}=(0, 1, 0)$."
   ]
  },
  {
   "cell_type": "markdown",
   "metadata": {},
   "source": [
    "### Решение"
   ]
  },
  {
   "cell_type": "markdown",
   "metadata": {},
   "source": [
    "$$x=(2, 3, 5)=(2,0,0)+(0, 3, 0)+(0, 0, 5)=1\\cdot(2, 0, 0)+3\\cdot(0, 1, 0)+0.5\\cdot(0, 0, 10)=b_{2}+3b_{3}+0.5b_{1},$$\n",
    "Таким образом координаты вектора $x$ в базисе $(b_{1},b_{2},b_{3})$ это $0.5$, $1$, $3$."
   ]
  },
  {
   "cell_type": "markdown",
   "metadata": {},
   "source": [
    "### 4. Найти координаты вектора $3x^{2}-2x+2\\in\\mathbb{R}^{3}[x]$:\n",
    "а) в базисе $1$, $x$, $x^{2}$;\n",
    "б) в базисе $x^{2}$, $x-1$, $1$."
   ]
  },
  {
   "cell_type": "markdown",
   "metadata": {},
   "source": [
    "### Решение"
   ]
  },
  {
   "cell_type": "markdown",
   "metadata": {},
   "source": [
    "a) базис $a_{1}=1, a_{2}=x, a_{3}=x^{2}$ $$3x^{2}-2x+2=3a_{3}-2a_{2}+2a_{1}$$\n",
    "значит координаты вектора $x$ в базисе $(a_{1},a_{2},a_{3})$ это $2$, $-2$, $3$."
   ]
  },
  {
   "cell_type": "markdown",
   "metadata": {},
   "source": [
    "б) базис $b_{1}=x^{2}, b_{2}=x-1, b_{3}=1$ $$3x^{2}-2x+2=3b_{1}-2b_{2}+0b_{3}$$\n",
    "значит координаты вектора $x$ в базисе $(b_{1},b_{2},b_{3})$ это $3$, $-2$, $0$."
   ]
  },
  {
   "cell_type": "markdown",
   "metadata": {},
   "source": [
    "### 5. Установить, является ли линейным подпространством:\n",
    "\n",
    "а) совокупность всех векторов трехмерного пространства, у которых по крайней мере одна из первых двух координат равна нулю;\n",
    "\n",
    "б) все векторы, являющиеся линейными комбинациями данных векторов $\\{u_{1}, u_{2}, ..., u_{n}\\}$."
   ]
  },
  {
   "cell_type": "markdown",
   "metadata": {},
   "source": [
    "#### Решение"
   ]
  },
  {
   "cell_type": "markdown",
   "metadata": {},
   "source": [
    "а) "
   ]
  },
  {
   "cell_type": "markdown",
   "metadata": {},
   "source": [
    "б) Исходное множество векторов является множеством линейных комбинаций $\\{u_{1}, u_{2}, ..., u_{n}\\}$, значит любая линейная комбинация векторов такого множества так же будет линейной комбинацией векторов $\\{u_{1}, u_{2}, ..., u_{n}\\}$, следовательно, данное множетво является линейным подпространством."
   ]
  },
  {
   "cell_type": "markdown",
   "metadata": {},
   "source": [
    "## Практическое задание №2"
   ]
  },
  {
   "cell_type": "markdown",
   "metadata": {},
   "source": [
    "### 1. Найти скалярное произведение векторов $x, y \\in \\mathbb{R}$:\n",
    "а) $x=(0,-3, 6),~y=(-4, 7, 9);$"
   ]
  },
  {
   "cell_type": "code",
   "execution_count": 1,
   "metadata": {},
   "outputs": [
    {
     "name": "stdout",
     "output_type": "stream",
     "text": [
      "Скалярное произведение векторов x и y равно 21\n"
     ]
    }
   ],
   "source": [
    "import numpy as np\n",
    "\n",
    "x = np.array([0, -3, 6])\n",
    "y = np.array([4, 5, 6])\n",
    "print(f'Скалярное произведение векторов x и y равно {np.dot(x, y)}')"
   ]
  },
  {
   "cell_type": "markdown",
   "metadata": {},
   "source": [
    "б) $x=(7, -4, 0, 1),~y=(-3, 1, 11, 2).$"
   ]
  },
  {
   "cell_type": "code",
   "execution_count": 2,
   "metadata": {},
   "outputs": [
    {
     "name": "stdout",
     "output_type": "stream",
     "text": [
      "Скалярное произведение векторов x и y равно -23\n"
     ]
    }
   ],
   "source": [
    "x = np.array([7, -4, 0, 1])\n",
    "y = np.array([-3, 1, 11, 2])\n",
    "print(f'Скалярное произведение векторов x и y равно {np.dot(x, y)}')"
   ]
  },
  {
   "cell_type": "markdown",
   "metadata": {},
   "source": [
    "### 2. Найти нормы векторов $(4, 2, 4)$ и $(12, 3, 4)$ и угол между ними."
   ]
  },
  {
   "cell_type": "code",
   "execution_count": 3,
   "metadata": {},
   "outputs": [
    {
     "name": "stdout",
     "output_type": "stream",
     "text": [
      "l1 норма вектора a = 10.0\n",
      "l2 норма вектора a = 6.0\n",
      "l1 норма вектора b = 19.0\n",
      "l2 норма вектора b = 13.0\n",
      "Косинус угла между векторами a и b: 0.90\n",
      "Угол между векторами a и b: 0.46\n"
     ]
    }
   ],
   "source": [
    "from numpy.linalg import norm\n",
    "\n",
    "a = np.array([4, 2, 4])\n",
    "b = np.array([12, 3, 4])\n",
    "\n",
    "print(f'l1 норма вектора a = {norm(a, ord=1)}')\n",
    "print(f'l2 норма вектора a = {norm(a, ord=2)}')\n",
    "\n",
    "print(f'l1 норма вектора b = {norm(b, ord=1)}')\n",
    "print(f'l2 норма вектора b = {norm(b, ord=2)}')\n",
    "\n",
    "cos_phi = np.dot(a, b) / norm(a) / norm(b)\n",
    "print(f'Косинус угла между векторами a и b: {cos_phi:.2f}')\n",
    "print(f'Угол между векторами a и b: {np.arccos(cos_phi):.2f}')"
   ]
  },
  {
   "cell_type": "markdown",
   "metadata": {},
   "source": [
    "### 3. Будет ли линейное пространство евклидовым, если за скалярное произведение принять:\n",
    "а) произведение длин векторов?\n",
    "\n",
    "б) утроенное обычное скалярное произведение векторов?"
   ]
  },
  {
   "cell_type": "markdown",
   "metadata": {},
   "source": [
    "#### Решение"
   ]
  },
  {
   "cell_type": "markdown",
   "metadata": {},
   "source": [
    "а) Линейное пространство над полем вещественных чисел называется евклидовым пространством, если на нем введено правило, согласно которому каждой упорядоченной паре векторов $x$ и $y$ поставлено в соответствие вещественное число, называемое скалярным произведением и обозначаемое символом $(x, y)$.\n",
    "\n",
    "При этом указанное правило должно подчиняться четырем аксиомам:$$\n",
    "1)(x,y)=(y,x);$$$$\n",
    "2)(\\lambda x, y)=\\lambda(x, y);$$$$\n",
    "3)(x_{1}+x_{2},y)=(x_{1},y)+(x_{2},y);$$$$\n",
    "4)(x, x)\\geq0, причем (x,x)=0\\Leftrightarrow x=0.$$\n",
    "\n",
    "Таким образом, необходимо проверить удовлетворяет ли такое призведение аксиомам:\n",
    "1) $\\left|x\\right|\\cdot\\left|y\\right|=\\left|y\\right|\\cdot\\left|x\\right|$ - выполнено\n",
    "2) $\\left|\\lambda x\\right|\\cdot\\left|y\\right|=\\lambda\\cdot \\left|x\\right|\\cdot\\left|y\\right|;$ - выполнено\n",
    "3) $\\left|x_{1}+x_{2}\\right|\\cdot\\left|y\\right|\\neq\\left|x_{1}\\right|\\cdot\\left|y\\right|+\\left|x_{2}\\right|\\cdot\\left|y\\right|;$ - НЕ выполнено\n",
    "4) $\\left|x\\right|\\cdot\\left|x\\right|\\geq0$, причем $\\left|x\\right|\\cdot\\left|x\\right|=0\\Leftrightarrow x=0.$ - выполнено\n",
    "\n",
    "не все аксиомы выполнены, значит если за скалярное произведение принять произведение длинвекторов, то линейное пространство не будет евклидовым"
   ]
  },
  {
   "cell_type": "markdown",
   "metadata": {},
   "source": [
    "б) утроенное обычное скалярное произведение векторов?\n",
    "\n",
    "проверяем удовлетворяет ли такое скалярное призведение аксиомам:\n",
    "1) $3\\cdot\\left|x\\right|\\cdot\\left|y\\right|\\cdot cos\\alpha=3\\cdot\\left|y\\right|\\cdot\\left|x\\right|\\cdot cos\\alpha$ - выполнено\n",
    "2) $3\\cdot\\left|\\lambda x\\right|\\cdot\\left|y\\right|cos\\alpha=3\\cdot\\lambda\\cdot \\left|x\\right|\\cdot\\left|y\\right|cos\\alpha;$ - выполнено\n",
    "3) $3\\cdot\\left|x_{1}+x_{2}\\right|\\cdot\\left|y\\right|cos\\alpha\\neq3\\cdot\\left|x_{1}\\right|\\cdot\\left|y\\right|cos\\alpha_{1}+3\\cdot\\left|x_{2}\\right|\\cdot\\left|y\\right|cos\\alpha_2;$ - НЕ выполнено\n",
    "4) $3\\cdot\\left|x\\right|\\cdot\\left|x\\right|cos\\alpha\\geq0$, причем $3\\cdot\\left|x\\right|\\cdot\\left|x\\right|cos\\alpha=0\\Leftrightarrow x=0.$ - выполнено\n",
    "\n",
    "не все аксиомы верны, значит при таком определении скалярного произведения, линейное пространство не будет евклидовым"
   ]
  },
  {
   "cell_type": "markdown",
   "metadata": {},
   "source": [
    "### 4. Какие из нижеперечисленных векторов образуют ортонормированный базис в линейном пространстве $\\mathbb{R}^{3}$"
   ]
  },
  {
   "cell_type": "code",
   "execution_count": null,
   "metadata": {},
   "outputs": [],
   "source": []
  }
 ],
 "metadata": {
  "kernelspec": {
   "display_name": "Python 3",
   "language": "python",
   "name": "python3"
  },
  "language_info": {
   "codemirror_mode": {
    "name": "ipython",
    "version": 3
   },
   "file_extension": ".py",
   "mimetype": "text/x-python",
   "name": "python",
   "nbconvert_exporter": "python",
   "pygments_lexer": "ipython3",
   "version": "3.7.1"
  }
 },
 "nbformat": 4,
 "nbformat_minor": 2
}
