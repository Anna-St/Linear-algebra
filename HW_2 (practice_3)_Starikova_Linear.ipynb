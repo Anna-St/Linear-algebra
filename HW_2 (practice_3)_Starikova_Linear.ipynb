{
 "cells": [
  {
   "cell_type": "markdown",
   "metadata": {},
   "source": [
    "## Практическое задание №3"
   ]
  },
  {
   "cell_type": "code",
   "execution_count": 1,
   "metadata": {},
   "outputs": [],
   "source": [
    "import numpy as np"
   ]
  },
  {
   "cell_type": "markdown",
   "metadata": {},
   "source": [
    "### 1. Установить, какие произведения матриц $AB$ и $BA$ определены, и найти размерности полученных матриц:\n",
    "\n",
    "а) $A$ — матрица $4\\times 2$, $B$ — матрица $4\\times 2$;\n",
    "\n",
    "б) $A$ — матрица $2\\times 5$, $B$ — матрица $5\\times 3$;\n",
    "\n",
    "в) $A$ — матрица $8\\times 3$, $B$ — матрица $3\\times 8$;\n",
    "\n",
    "г) $A$ — квадратная матрица $4\\times 4$, $B$ — квадратная матрица $4\\times 4$."
   ]
  },
  {
   "cell_type": "markdown",
   "metadata": {},
   "source": [
    "#### Решение"
   ]
  },
  {
   "cell_type": "markdown",
   "metadata": {},
   "source": [
    "Из методички:\n",
    "Матрицу $A$  можно умножить не на всякую матрицу $B$: необходимо, чтобы число столбцов матрицы $A$ было равно числу строк матрицы $B$.\n",
    "\n",
    "В частности, определить оба произведения $A⋅B$ и $B⋅A$ можно только в случае, когда число столбцов $A$ совпадает с числом строк $B$, а число строк $A$ совпадает с числом столбцов $B$. В этом случае матрицы $A⋅B$ и $B⋅A$ будут квадратными. Их порядок в общем случае будет различным и будет совпадать только в случае квадратных матриц $A$ и $B$."
   ]
  },
  {
   "cell_type": "markdown",
   "metadata": {},
   "source": [
    "#### Таким образом:\n",
    "а) произведение $AB$ - не определено, произведение  $BA$ - не определено\n",
    "\n",
    "б) произведение $AB$ - определено = матрица $5 \\times 5$, произведение $BA$ - не определено\n",
    "\n",
    "в) произведение $AB$ - определено = матрица $3 \\times 3$, произведение $BA$ - определено = матрица $8 \\times 8$\n",
    "\n",
    "г) произведения $AB$ и $BA$ - определены = матрицы $4 \\times 4$"
   ]
  },
  {
   "cell_type": "markdown",
   "metadata": {},
   "source": [
    "### 2. Найти сумму и произведение матриц \n",
    "$A=\\begin{pmatrix}\n",
    "1;&-2\\\\ \n",
    "3;&0\n",
    "\\end{pmatrix}$ и $B=\\begin{pmatrix}\n",
    "4 ;& -1\\\\ \n",
    "0 ;& 5\n",
    "\\end{pmatrix}.$"
   ]
  },
  {
   "cell_type": "markdown",
   "metadata": {},
   "source": [
    "#### Решение"
   ]
  },
  {
   "cell_type": "markdown",
   "metadata": {},
   "source": [
    "$A + B=\\begin{pmatrix}\n",
    "1 + 4 &; -2 + (-1)\\\\ \n",
    "3 + 0 &; 0 + 5\n",
    "\\end{pmatrix}$ = $\\begin{pmatrix}\n",
    "5 &; -3\\\\ \n",
    "3 &; 5\n",
    "\\end{pmatrix}.$"
   ]
  },
  {
   "cell_type": "markdown",
   "metadata": {},
   "source": [
    "$AB=\\begin{pmatrix}\n",
    "1 \\cdot 4 - 2 \\cdot 0  &; 1 \\cdot -1 - 2 \\cdot 5\\\\ \n",
    "3 \\cdot 4 + 0 \\cdot 0  &; 3 \\cdot -1 + 0 \\cdot 4\n",
    "\\end{pmatrix}$ = $\\begin{pmatrix}\n",
    "4 &; -11\\\\ \n",
    "12 &; -3\n",
    "\\end{pmatrix}.$"
   ]
  },
  {
   "cell_type": "markdown",
   "metadata": {},
   "source": [
    "#### Проверка"
   ]
  },
  {
   "cell_type": "code",
   "execution_count": 2,
   "metadata": {},
   "outputs": [
    {
     "name": "stdout",
     "output_type": "stream",
     "text": [
      "Матрица A\n",
      "[[ 1 -2]\n",
      " [ 3  0]]\n",
      "\n",
      "Матрица B\n",
      "[[ 4 -1]\n",
      " [ 0  5]]\n",
      "\n",
      "Матрица С = A + B\n",
      "[[ 5 -3]\n",
      " [ 3  5]]\n",
      "Матрица С = A*B\n",
      "[[  4 -11]\n",
      " [ 12  -3]]\n"
     ]
    }
   ],
   "source": [
    "a = np.array([[1, -2], [3, 0]])\n",
    "b = np.array([[4, -1], [0, 5]])\n",
    "\n",
    "print(f'Матрица A\\n{a}\\n')\n",
    "print(f'Матрица B\\n{b}\\n')\n",
    "print(f'Матрица С = A + B\\n{a + b}')\n",
    "print(f'Матрица С = A*B\\n{np.dot(a, b)}')"
   ]
  },
  {
   "cell_type": "markdown",
   "metadata": {},
   "source": [
    "### 3. \n",
    "Из закономерностей сложения и умножения матриц на число можно сделать вывод, что матрицы одного размера образуют линейное пространство. Вычислить линейную комбинацию $3A-2B+4C$ для матриц $A=\\begin{pmatrix}\n",
    "1 ;& 7\\\\ \n",
    "3 ;& -6\n",
    "\\end{pmatrix}$, $B=\\begin{pmatrix}\n",
    "0 ;& 5\\\\ \n",
    "2 ;& -1\n",
    "\\end{pmatrix}$, $C=\\begin{pmatrix}\n",
    "2 ;& -4\\\\ \n",
    "1 ;& 1\n",
    "\\end{pmatrix}.$"
   ]
  },
  {
   "cell_type": "markdown",
   "metadata": {},
   "source": [
    "#### Решение"
   ]
  },
  {
   "cell_type": "markdown",
   "metadata": {},
   "source": [
    "\n",
    "$3A - 2B + 4C =\\begin{pmatrix}\n",
    "3 \\cdot 1 - 2 \\cdot 0 + 4 \\cdot 2;& 3 \\cdot 7\\ - 2 \\cdot 5\\ + 4 \\cdot -4\\\\ \n",
    "3 \\cdot 3 - 2 \\cdot 2 + 4 \\cdot 1 ;& 3 \\cdot -6 - 2 \\cdot -1 + 4 \\cdot 1\n",
    "\\end{pmatrix}$ = $\\begin{pmatrix}\n",
    "11 ;& -5\\\\ \n",
    "9 ;& -12\n",
    "\\end{pmatrix}$\n"
   ]
  },
  {
   "cell_type": "markdown",
   "metadata": {},
   "source": [
    "#### Проверка"
   ]
  },
  {
   "cell_type": "code",
   "execution_count": 3,
   "metadata": {},
   "outputs": [
    {
     "name": "stdout",
     "output_type": "stream",
     "text": [
      "Матрица A\n",
      "[[ 1  7]\n",
      " [ 3 -6]]\n",
      "\n",
      "Матрица B\n",
      "[[ 0  5]\n",
      " [ 2 -1]]\n",
      "\n",
      "Матрица С\n",
      "[[ 2 -4]\n",
      " [ 1  1]]\n",
      "\n",
      "Матрица 3𝐴−2𝐵+4𝐶\n",
      "[[ 11  -5]\n",
      " [  9 -12]]\n"
     ]
    }
   ],
   "source": [
    "a = np.array([[1, 7], [3, -6]])\n",
    "b = np.array([[0, 5], [2, -1]])\n",
    "с = np.array([[2, -4], [1, 1]])\n",
    "\n",
    "print(f'Матрица A\\n{a}\\n')\n",
    "print(f'Матрица B\\n{b}\\n')\n",
    "print(f'Матрица С\\n{с}\\n')\n",
    "print(f'Матрица 3𝐴−2𝐵+4𝐶\\n{3*a - 2* b + 4*с}')"
   ]
  },
  {
   "cell_type": "markdown",
   "metadata": {},
   "source": [
    "### 4. \n",
    "Дана матрица $A=\\begin{pmatrix}\n",
    "4 ;& 1\\\\ \n",
    "5 ;& -2\\\\ \n",
    "2 ;& 3\n",
    "\\end{pmatrix}$. Вычислить $AA^{T}$ и $A^{T}A$."
   ]
  },
  {
   "cell_type": "markdown",
   "metadata": {},
   "source": [
    "#### Решение"
   ]
  },
  {
   "cell_type": "markdown",
   "metadata": {},
   "source": [
    "$AA^T=\\begin{pmatrix}\n",
    "4 ;& 1\\\\ \n",
    "5 ;& -2\\\\ \n",
    "2 ;& 3\n",
    "\\end{pmatrix} \\cdot\n",
    "\\begin{pmatrix}\n",
    "4 ;& 5 ;& 2\\\\ \n",
    "1 ;& -2 ;& 3\n",
    "\\end{pmatrix} $ = $\\begin{pmatrix}\n",
    "4 \\cdot 4 + 1 \\cdot 1 ;& 4 \\cdot 5 + 1 \\cdot -2 ;& 4 \\cdot 2 + 1 \\cdot 3\\\\ \n",
    "5 \\cdot 4 - 2 \\cdot 1 ;& 5 \\cdot 5 - 2 \\cdot -2 ;& 5 \\cdot 2 - 2 \\cdot 3\\\\ \n",
    "2 \\cdot 4 + 3 \\cdot 1 ;& 2 \\cdot 5 + 3 \\cdot -2 ;& 2 \\cdot 2 + 3 \\cdot 3\n",
    "\\end{pmatrix} = \n",
    "\\begin{pmatrix}\n",
    "17 ;& 18 ;& 11\\\\ \n",
    "18 ;& 29 ;& 4\\\\ \n",
    "11 ;& 4 ;& 13\n",
    "\\end{pmatrix} $"
   ]
  },
  {
   "cell_type": "markdown",
   "metadata": {},
   "source": [
    "$A^TA=\\begin{pmatrix}\n",
    "4 ;& 5 ;& 2\\\\ \n",
    "1 ;& -2 ;& 3\n",
    "\\end{pmatrix} \\cdot\n",
    "\\begin{pmatrix}\n",
    "4 ;& 1\\\\ \n",
    "5 ;& -2\\\\ \n",
    "2 ;& 3\n",
    "\\end{pmatrix} $ = $\\begin{pmatrix}\n",
    "4 \\cdot 4 + 5 \\cdot 5 + 2 \\cdot 2 ;& 4 \\cdot 1 + 5 \\cdot -2 + 2 \\cdot 3\\\\ \n",
    "1 \\cdot 4 - 2 \\cdot 5 + 3 \\cdot 2 ;& 1 \\cdot 1 - 2 \\cdot -2 + 3 \\cdot 3\n",
    "\\end{pmatrix} = \n",
    "\\begin{pmatrix}\n",
    "45 ;& 0\\\\ \n",
    "0 ;& 14\n",
    "\\end{pmatrix} $"
   ]
  },
  {
   "cell_type": "markdown",
   "metadata": {},
   "source": [
    "#### Проверка"
   ]
  },
  {
   "cell_type": "code",
   "execution_count": 4,
   "metadata": {},
   "outputs": [
    {
     "name": "stdout",
     "output_type": "stream",
     "text": [
      "Матрица:\n",
      "[[ 4  1]\n",
      " [ 5 -2]\n",
      " [ 2  3]]\n",
      "Произведение A*AT:\n",
      "[[17 18 11]\n",
      " [18 29  4]\n",
      " [11  4 13]]\n",
      "Произведение AT*A:\n",
      "[[45  0]\n",
      " [ 0 14]]\n"
     ]
    }
   ],
   "source": [
    "a = np.array([[4, 1], [5, -2], [2, 3]])\n",
    "\n",
    "print(f'Матрица:\\n{a}')\n",
    "print(f'Произведение A*AT:\\n{np.dot(a, a.T)}')\n",
    "print(f'Произведение AT*A:\\n{np.dot(a.T, a)}')"
   ]
  },
  {
   "cell_type": "markdown",
   "metadata": {},
   "source": [
    "### 5*. Написать на Python функцию для перемножения двух произвольных матриц, не используя NumPy."
   ]
  },
  {
   "cell_type": "markdown",
   "metadata": {},
   "source": [
    "#### Решение"
   ]
  },
  {
   "cell_type": "code",
   "execution_count": 5,
   "metadata": {},
   "outputs": [],
   "source": [
    "def matrix_mult(matrix_A, matrix_B):\n",
    "    sum_ = 0     \n",
    "    matrix_ = []    \n",
    "    matrix_С = [] \n",
    "    if len(matrix_B)!=len(matrix_A[0]): \n",
    "        print(\"Матрицы не могут быть перемножены\")       \n",
    "    else:\n",
    "        for z in range(0, len(matrix_A)):\n",
    "            for j in range(0,len(matrix_B[0])):\n",
    "                for i in range(0,len(matrix_A[0])):\n",
    "                   sum_ += matrix_A[z][i]*matrix_B[i][j]\n",
    "                matrix_.append(sum_)\n",
    "                sum_ = 0\n",
    "            matrix_С.append(matrix_)\n",
    "            matrix_ = []           \n",
    "    return matrix_С"
   ]
  },
  {
   "cell_type": "markdown",
   "metadata": {},
   "source": [
    "#### Проверка"
   ]
  },
  {
   "cell_type": "code",
   "execution_count": 6,
   "metadata": {},
   "outputs": [
    {
     "data": {
      "text/plain": [
       "[[4, -11], [12, -3]]"
      ]
     },
     "execution_count": 6,
     "metadata": {},
     "output_type": "execute_result"
    }
   ],
   "source": [
    "a = np.array([[1, -2], [3, 0]])\n",
    "b = np.array([[4, -1], [0, 5]])\n",
    "matrix_mult(a, b)"
   ]
  }
 ],
 "metadata": {
  "kernelspec": {
   "display_name": "Python 3",
   "language": "python",
   "name": "python3"
  },
  "language_info": {
   "codemirror_mode": {
    "name": "ipython",
    "version": 3
   },
   "file_extension": ".py",
   "mimetype": "text/x-python",
   "name": "python",
   "nbconvert_exporter": "python",
   "pygments_lexer": "ipython3",
   "version": "3.7.1"
  }
 },
 "nbformat": 4,
 "nbformat_minor": 2
}
