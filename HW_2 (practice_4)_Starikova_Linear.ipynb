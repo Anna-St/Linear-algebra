{
 "cells": [
  {
   "cell_type": "markdown",
   "metadata": {},
   "source": [
    "## Практическое задание №4"
   ]
  },
  {
   "cell_type": "code",
   "execution_count": 1,
   "metadata": {},
   "outputs": [],
   "source": [
    "import numpy as np"
   ]
  },
  {
   "cell_type": "markdown",
   "metadata": {},
   "source": [
    "### 1. Вычислить определитель:\n",
    "\n",
    "a)\n",
    "\n",
    "$$\\begin{vmatrix}\n",
    "sinx ;& -cosx\\\\ \n",
    "cosx ;& sinx\n",
    "\\end{vmatrix};$$\n",
    "б)\n",
    "\n",
    "$$\\begin{vmatrix}\n",
    "4 ;& 2 ;& 3\\\\ \n",
    "0 ;& 5 ;& 1\\\\ \n",
    "0 ;& 0 ;& 9\n",
    "\\end{vmatrix};$$\n",
    "в)\n",
    "\n",
    "$$\\begin{vmatrix}\n",
    "1 ;& 2 ;& 3\\\\ \n",
    "4 ;& 5 ;& 6\\\\ \n",
    "7 ;& 8 ;& 9\n",
    "\\end{vmatrix}.$$"
   ]
  },
  {
   "cell_type": "markdown",
   "metadata": {},
   "source": [
    "#### Решение"
   ]
  },
  {
   "cell_type": "markdown",
   "metadata": {},
   "source": [
    "а) $\\begin{vmatrix}\n",
    "sinx ;& -cosx\\\\ \n",
    "cosx ;& sinx\n",
    "\\end{vmatrix} = sinx \\cdot sinx + cosx \\cdot cosx = sin^2x +  cos^2x = 1$\n",
    "\n",
    "б) $\\begin{vmatrix}\n",
    "4 ;& 2 ;& 3\\\\ \n",
    "0 ;& 5 ;& 1\\\\ \n",
    "0 ;& 0 ;& 9\n",
    "\\end{vmatrix} = 4 \\cdot 5 \\cdot 9 = 180$\n",
    "\n",
    "в) $\\begin{vmatrix}\n",
    "1 ;& 2 ;& 3\\\\ \n",
    "4 ;& 5 ;& 6\\\\ \n",
    "7 ;& 8 ;& 9\n",
    "\\end{vmatrix} = 1 \\cdot \\begin{vmatrix}\n",
    "5 ;& 6\\\\ \n",
    "8 ;& 9\n",
    "\\end{vmatrix}  - 2 \\cdot \\begin{vmatrix}\n",
    "4  ;& 6\\\\ \n",
    "7  ;& 9\n",
    "\\end{vmatrix} + 3 \\cdot \\begin{vmatrix}\n",
    "4 ;& 5\\\\ \n",
    "7 ;& 8\n",
    "\\end{vmatrix} = -3 + 12 - 9 = 0  $"
   ]
  },
  {
   "cell_type": "markdown",
   "metadata": {},
   "source": [
    "#### Проверка"
   ]
  },
  {
   "cell_type": "code",
   "execution_count": 2,
   "metadata": {},
   "outputs": [
    {
     "name": "stdout",
     "output_type": "stream",
     "text": [
      "Матрица:\n",
      "[[4 2 3]\n",
      " [0 5 1]\n",
      " [0 0 9]]\n",
      "Определитель:\n",
      "180\n",
      "Матрица:\n",
      "[[1 2 3]\n",
      " [4 5 6]\n",
      " [7 8 9]]\n",
      "Определитель:\n",
      "-0\n"
     ]
    }
   ],
   "source": [
    "#a = np.array([[np.sin(), -np.cos()], [np.cos(), np.sin()]])\n",
    "b = np.array([[4, 2, 3], [0, 5, 1], [0, 0, 9]])\n",
    "c = np.array([[1, 2, 3], [4, 5, 6], [7, 8, 9]])\n",
    "\n",
    "#print(f'Матрица:\\n{a}')\n",
    "#print(f'Определитель:\\n{np.linalg.det(a):.0f}')\n",
    "print(f'Матрица:\\n{b}')\n",
    "print(f'Определитель:\\n{np.linalg.det(b):.0f}')\n",
    "print(f'Матрица:\\n{c}')\n",
    "print(f'Определитель:\\n{np.linalg.det(c):.0f}')"
   ]
  },
  {
   "cell_type": "markdown",
   "metadata": {},
   "source": [
    "### 2. Определитель матрицы $A$ равен $4$. Найти:\n",
    "а) $det(A^{2})$;\n",
    "\n",
    "б) $det(A^{T})$;\n",
    "\n",
    "в) $det(2A)$."
   ]
  },
  {
   "cell_type": "markdown",
   "metadata": {},
   "source": [
    "#### Решение"
   ]
  },
  {
   "cell_type": "markdown",
   "metadata": {},
   "source": [
    "а) $det(A^{2}) = det(AA) = |A| \\cdot |A| = 4 \\cdot 4 = 16$;\n",
    "\n",
    "б) $det(A^{T}) = det(A)  = 4$;\n",
    "\n",
    "в) $det(2A) = 2^2 \\cdot |A|  = 16 $."
   ]
  },
  {
   "cell_type": "markdown",
   "metadata": {},
   "source": [
    "### 3. Доказать, что матрица вырожденная\n",
    "\n",
    "$$\\begin{pmatrix}\n",
    "-2 ;& 7 ;& -3\\\\ \n",
    "4 ;& -14 ;& 6\\\\ \n",
    "-3 ;& 7 ;& 13\n",
    "\\end{pmatrix}$$"
   ]
  },
  {
   "cell_type": "markdown",
   "metadata": {},
   "source": [
    "#### Решение"
   ]
  },
  {
   "cell_type": "markdown",
   "metadata": {},
   "source": [
    "Матрица называется сингулярной, или вырожденной, если ее определитель равен нулю.\n",
    "\n",
    "Если две строки (столбца) матрицы линейно зависимы, то определитель этой матрицы равен нулю.\n",
    "\n",
    "Т.к. первая строка = (-2) умножить на вторую строку, т.е. они линейно зависимы, то определитель = 0"
   ]
  },
  {
   "cell_type": "markdown",
   "metadata": {},
   "source": [
    "#### Проверка"
   ]
  },
  {
   "cell_type": "markdown",
   "metadata": {},
   "source": [
    "$\\begin{vmatrix}\n",
    "-2 ;& 7 ;& -3\\\\ \n",
    "4 ;& -14 ;& 6\\\\ \n",
    "3 ;& 7 ;& 13\n",
    "\\end{vmatrix} = -2 \\cdot \\begin{vmatrix}\n",
    "-14 ;& 6\\\\ \n",
    "7 ;& 13\n",
    "\\end{vmatrix}  - 7 \\cdot \\begin{vmatrix}\n",
    "4  ;& 6\\\\ \n",
    "3  ;& 13\n",
    "\\end{vmatrix} - 3 \\cdot \\begin{vmatrix}\n",
    "4 ;& -14\\\\ \n",
    "3 ;& 7\n",
    "\\end{vmatrix} = -2 \\cdot (-182 -42) -7 \\cdot (52 - 18) -3 \\cdot (28 + 52) = 448 - 238 - 210 = 0  $"
   ]
  },
  {
   "cell_type": "code",
   "execution_count": 3,
   "metadata": {},
   "outputs": [
    {
     "name": "stdout",
     "output_type": "stream",
     "text": [
      "Матрица:\n",
      "[[ -2   7  -3]\n",
      " [  4 -14   6]\n",
      " [ -3   7  13]]\n",
      "Определитель:\n",
      "0\n"
     ]
    }
   ],
   "source": [
    "а = np.array([[-2, 7, -3], [4, -14, 6], [-3, 7, 13]])\n",
    "\n",
    "print(f'Матрица:\\n{а}')\n",
    "print(f'Определитель:\\n{np.linalg.det(а):.0f}')"
   ]
  },
  {
   "cell_type": "markdown",
   "metadata": {},
   "source": [
    "### 4. Найти ранг матрицы:\n",
    "\n",
    "а) $\\begin{pmatrix}\n",
    "1 ;& 2 ;& 3\\\\ \n",
    "1 ;& 1 ;& 1\\\\ \n",
    "2 ;& 3 ;& 4\n",
    "\\end{pmatrix};$\n",
    "\n",
    "б) $\\begin{pmatrix}\n",
    "0 ;& 0 ;& 2 ;& 1\\\\ \n",
    "0 ;& 0 ;& 2 ;& 2\\\\ \n",
    "0 ;& 0 ;& 4 ;& 3\\\\ \n",
    "2 ;& 3 ;& 5 ;& 6\n",
    "\\end{pmatrix}.$"
   ]
  },
  {
   "cell_type": "markdown",
   "metadata": {},
   "source": [
    "#### Решение"
   ]
  },
  {
   "cell_type": "markdown",
   "metadata": {},
   "source": [
    "а) Третья строка =  первой строке с +1, то есть третья строка является линейной комбинацией первой строки, поэтому её можно отбросить. Получается надо посчитать ранг матрицы $\\begin{pmatrix}\n",
    "1 ;& 2 ;& 3\\\\ \n",
    "1 ;& 1 ;& 1\\\\\n",
    "\\end{pmatrix} $\n",
    "\n",
    "Ранг =  2"
   ]
  },
  {
   "cell_type": "markdown",
   "metadata": {},
   "source": [
    "б) Третья строка равна сумме первой и второй строк, поэтому её можно отбросить.\n",
    "Получается надо посчитать ранг матрицы $\\begin{pmatrix}\n",
    "0 ;& 0 ;& 2 ;& 1\\\\ \n",
    "0 ;& 0 ;& 2 ;& 2\\\\\n",
    "2 ;& 3 ;& 5 ;& 6\n",
    "\\end{pmatrix}.$ \n",
    "\n",
    "Строки матрицы - линейно независимы, следовательно ранг = 3."
   ]
  },
  {
   "cell_type": "markdown",
   "metadata": {},
   "source": [
    "#### Проверка"
   ]
  },
  {
   "cell_type": "code",
   "execution_count": 4,
   "metadata": {},
   "outputs": [
    {
     "name": "stdout",
     "output_type": "stream",
     "text": [
      "Матрица:\n",
      "[[1 2 3]\n",
      " [1 1 1]\n",
      " [2 3 4]]\n",
      "Ранг матрицы: 2\n",
      "Матрица:\n",
      "[[0 0 2 1]\n",
      " [0 0 2 2]\n",
      " [0 0 4 3]\n",
      " [2 3 5 6]]\n",
      "Ранг матрицы: 3\n"
     ]
    }
   ],
   "source": [
    "a = np.array([[1, 2, 3], [1, 1, 1], [2, 3, 4]])\n",
    "b = np.array([[0, 0, 2, 1], [0, 0, 2, 2], [0, 0, 4, 3], [2, 3, 5, 6]])\n",
    "\n",
    "print(f'Матрица:\\n{a}')\n",
    "print(f'Ранг матрицы: {np.linalg.matrix_rank(a)}')\n",
    "print(f'Матрица:\\n{b}')\n",
    "print(f'Ранг матрицы: {np.linalg.matrix_rank(b)}')"
   ]
  }
 ],
 "metadata": {
  "kernelspec": {
   "display_name": "Python 3",
   "language": "python",
   "name": "python3"
  },
  "language_info": {
   "codemirror_mode": {
    "name": "ipython",
    "version": 3
   },
   "file_extension": ".py",
   "mimetype": "text/x-python",
   "name": "python",
   "nbconvert_exporter": "python",
   "pygments_lexer": "ipython3",
   "version": "3.7.1"
  }
 },
 "nbformat": 4,
 "nbformat_minor": 2
}
